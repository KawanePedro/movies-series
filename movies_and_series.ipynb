{
 "cells": [
  {
   "cell_type": "code",
   "execution_count": 1,
   "metadata": {},
   "outputs": [],
   "source": [
    "import json\n",
    "\n",
    "caminho_arquivo = \"C:\\\\Users\\\\kawan\\\\Downloads\\\\movies_and_series.json\"\n",
    "\n",
    "with open (caminho_arquivo) as arquivo:\n",
    "    data = json.load(arquivo)\n"
   ]
  },
  {
   "cell_type": "code",
   "execution_count": 122,
   "metadata": {},
   "outputs": [
    {
     "name": "stdout",
     "output_type": "stream",
     "text": [
      "{'title': 'The Shawshank Redemption'}\n"
     ]
    }
   ],
   "source": [
    "# 1\n",
    "# Listar todos os títulos de filmes:\n",
    "# Extraia todos os nomes de filmes disponíveis no JSON.\n",
    "\n",
    "titulos_filmes = {}\n",
    "\n",
    "for n in data['data']['movies']:\n",
    "    titulos_filmes['title'] = n['title']\n",
    "\n",
    "print(titulos_filmes)"
   ]
  },
  {
   "cell_type": "code",
   "execution_count": 123,
   "metadata": {},
   "outputs": [
    {
     "name": "stdout",
     "output_type": "stream",
     "text": [
      "{'title': 'Breaking Bad'}\n"
     ]
    }
   ],
   "source": [
    "# 2\n",
    "# Listar todas as séries:\n",
    "# Obtenha os títulos de todas as séries presentes no JSON.\n",
    "\n",
    "titulos_series = {}\n",
    "\n",
    "for n in data['data']['series']:\n",
    "    titulos_series['title'] = n['title']\n",
    "\n",
    "print(titulos_series)"
   ]
  },
  {
   "cell_type": "code",
   "execution_count": 116,
   "metadata": {},
   "outputs": [
    {
     "name": "stdout",
     "output_type": "stream",
     "text": [
      "{'Breaking Bad': 9.5}\n"
     ]
    }
   ],
   "source": [
    "# 3\n",
    "# Recuperar o filme/série com maior nota (rating):\n",
    "# Identifique qual filme ou série possui o maior valor de rating.\n",
    "\n",
    "def maior_rating(data):\n",
    "\n",
    "    best_rating = 0\n",
    "    best_rating_picture = None\n",
    "    info = {}\n",
    "\n",
    "    for movie in data['data']['movies']:\n",
    "        if movie['rating'] > best_rating:\n",
    "            best_rating = movie['rating']\n",
    "            best_rating_picture = movie['title']\n",
    "\n",
    "    \n",
    "    for series in data['data']['series']:\n",
    "        if series['rating'] > best_rating:\n",
    "            best_rating = series['rating']\n",
    "            best_rating_picture = series['title']\n",
    "\n",
    "    info[best_rating_picture] = best_rating\n",
    "\n",
    "    return info\n",
    "\n",
    "\n",
    "nota_maior = maior_rating(data)\n",
    "print(nota_maior)"
   ]
  },
  {
   "cell_type": "code",
   "execution_count": 140,
   "metadata": {},
   "outputs": [
    {
     "name": "stdout",
     "output_type": "stream",
     "text": [
      "['Crime', 'Drama', 'Thriller']\n"
     ]
    }
   ],
   "source": [
    "# 4\n",
    "# Listar os gêneros de todos os filmes e séries:\n",
    "# Extraia e combine todos os gêneros (genres) sem duplicações.\n",
    "\n",
    "def genres(data):\n",
    "\n",
    "    generos = set()\n",
    "\n",
    "    for movie in data['data']['movies']:\n",
    "        if 'genres' in movie:\n",
    "            for m in movie['genres']:\n",
    "                generos.add(m)\n",
    "        \n",
    "    for series in data['data']['series']:\n",
    "        if 'genres' in series:\n",
    "            for s in series['genres']:\n",
    "                generos.add(s)\n",
    "\n",
    "    return list(generos)\n",
    "\n",
    "all_genres = genres(data)\n",
    "print(all_genres)\n"
   ]
  },
  {
   "cell_type": "code",
   "execution_count": 136,
   "metadata": {},
   "outputs": [
    {
     "name": "stdout",
     "output_type": "stream",
     "text": [
      "{'movies': 1, 'series': 1}\n"
     ]
    }
   ],
   "source": [
    "# 5\n",
    "# Obter o número total de filmes e séries:\n",
    "# Conte quantos filmes e quantas séries existem no JSON.\n",
    "\n",
    "\n",
    "num_pictures = {}\n",
    "\n",
    "num_filmes = len(titulos_filmes)\n",
    "num_series = len(titulos_series)\n",
    "num_pictures['movies'] = (num_filmes)\n",
    "num_pictures['series'] = (num_series)\n",
    "\n",
    "print(num_pictures)"
   ]
  },
  {
   "cell_type": "code",
   "execution_count": 139,
   "metadata": {},
   "outputs": [
    {
     "name": "stdout",
     "output_type": "stream",
     "text": [
      "['Amazon Prime', 'Netflix']\n"
     ]
    }
   ],
   "source": [
    "# 6\n",
    "# Listar todas as plataformas de streaming disponíveis:\n",
    "# Extraia o nome das plataformas (Netflix, Amazon Prime, HBO Max, etc.).\n",
    "\n",
    "\n",
    "def plat_streaming(data):\n",
    "\n",
    "    streaming = set()\n",
    "\n",
    "    for movie in data['data']['movies']:\n",
    "        if 'streaming' in movie:\n",
    "            for m in movie['streaming']:\n",
    "                streaming.add(m)\n",
    "            \n",
    "    for series in data['data']['series']:\n",
    "        if 'streaming' in series:\n",
    "            for s in series['streaming']:\n",
    "                streaming.add(s)\n",
    "\n",
    "    return list(streaming)\n",
    "\n",
    "all_streaming = plat_streaming(data)\n",
    "print(all_streaming)\n"
   ]
  },
  {
   "cell_type": "code",
   "execution_count": 143,
   "metadata": {},
   "outputs": [
    {
     "name": "stdout",
     "output_type": "stream",
     "text": [
      "['The Shawshank Redemption', 'Breaking Bad']\n"
     ]
    }
   ],
   "source": [
    "# 7\n",
    "# Filtrar os filmes/séries disponíveis em 4K no Netflix:\n",
    "# Liste apenas aqueles com a resolução 4K no Netflix.\n",
    "\n",
    "def item_in4k(data):\n",
    "    movies_4k = []\n",
    "\n",
    "    for movie in data['data']['movies']:\n",
    "        if 'Netflix' in movie['streaming']:\n",
    "            for m in movie['streaming']['Netflix']['resolution']:\n",
    "                if m == '4K':\n",
    "                    movies_4k.append(movie['title'])\n",
    "\n",
    "    for series in data['data']['series']:\n",
    "        if 'Netflix' in series['streaming']:\n",
    "            for s in series['streaming']['Netflix']['resolution']:\n",
    "                if s == '4K':\n",
    "                    movies_4k.append(series['title'])\n",
    "\n",
    "    return(movies_4k)\n",
    "\n",
    "resolucao_4k = item_in4k(data)\n",
    "print(resolucao_4k)"
   ]
  },
  {
   "cell_type": "code",
   "execution_count": 137,
   "metadata": {},
   "outputs": [
    {
     "name": "stdout",
     "output_type": "stream",
     "text": [
      "{'The Shawshank Redemption': {'Netflix': 'https://www.netflix.com/title/70005379'}}\n"
     ]
    }
   ],
   "source": [
    "# 8\n",
    "# Identificar plataformas onde um filme específico está disponível:\n",
    "# Para um filme como \"The Shawshank Redemption\", liste as plataformas disponíveis e os URLs correspondentes.\n",
    "\n",
    "\n",
    "def movie_where(data):\n",
    "\n",
    "    info = {}\n",
    "\n",
    "    for movie in data['data']['movies']:\n",
    "        available_platforms = {}\n",
    "        for platform, details in movie['streaming'].items():\n",
    "            if details['available']:\n",
    "                available_platforms[platform] = details['url']\n",
    "                info[movie['title']] = available_platforms\n",
    "\n",
    "    return info\n",
    "\n",
    "\n",
    "\n",
    "\n",
    "available_platforms = movie_where(data)\n",
    "print(available_platforms)  "
   ]
  },
  {
   "cell_type": "code",
   "execution_count": 22,
   "metadata": {},
   "outputs": [
    {
     "name": "stdout",
     "output_type": "stream",
     "text": [
      "{'Tim Robbins': 'Andy Dufresne', 'Morgan Freeman': \"Ellis Boyd 'Red' Redding\", 'Bryan Cranston': 'Walter White', 'Aaron Paul': 'Jesse Pinkman'}\n"
     ]
    }
   ],
   "source": [
    "# 9\n",
    "# Listar todos os atores e os personagens que interpretam:\n",
    "# Extraia o nome de todos os atores e seus respectivos personagens.\n",
    "\n",
    "\n",
    "def actor_character(data):\n",
    "    actor_charc = {}\n",
    "\n",
    "    for movie in data['data']['movies']:\n",
    "        if 'cast' in movie:\n",
    "            for a in movie['cast']:\n",
    "                actor_charc[a['actor']]= a[\"character\"]\n",
    "                \n",
    "\n",
    "    for series in data['data']['series']:\n",
    "        if 'cast' in series:\n",
    "            for a in series['cast']:\n",
    "                actor_charc[a['actor']]= a[\"character\"]\n",
    "    \n",
    "    return actor_charc\n",
    "\n",
    "actor_charc = actor_character(data)\n",
    "print(actor_charc)  "
   ]
  },
  {
   "cell_type": "code",
   "execution_count": 145,
   "metadata": {},
   "outputs": [
    {
     "name": "stdout",
     "output_type": "stream",
     "text": [
      "{'Morgan Freeman': 5000000}\n"
     ]
    }
   ],
   "source": [
    "# 10\n",
    "# Obter o ator com maior salário em um filme ou série:\n",
    "# Encontre o ator que recebeu o maior valor em salary.\n",
    "\n",
    "\n",
    "def max_salary(data):\n",
    "\n",
    "    highest_salary = 0\n",
    "    actor = None\n",
    "    info = {}\n",
    "\n",
    "    for movie in data['data']['movies']:\n",
    "        if 'cast' in movie:\n",
    "            for a in movie['cast']:\n",
    "                if a['salary'] > highest_salary:\n",
    "                    highest_salary = a['salary']\n",
    "                    actor = a['actor']\n",
    "\n",
    "    for series in data['data']['series']:\n",
    "        if 'cast' in series:\n",
    "            for a in series['cast']:\n",
    "                if a['salary'] > highest_salary:\n",
    "                    highest_salary = a['salary']\n",
    "                    actor = a['actor']\n",
    "\n",
    "\n",
    "    info[actor] = highest_salary\n",
    "\n",
    "    return info\n",
    "\n",
    "highest_salary = max_salary(data)\n",
    "print(highest_salary)  "
   ]
  },
  {
   "cell_type": "code",
   "execution_count": 152,
   "metadata": {},
   "outputs": [
    {
     "name": "stdout",
     "output_type": "stream",
     "text": [
      "[['Mansfield, Ohio', 'Ashland, Ohio']]\n"
     ]
    }
   ],
   "source": [
    "# 11\n",
    "# Listar todas as localizações de filmagem dos filmes:\n",
    "# Extraia todos os locais em filmingLocations presentes no JSON.\n",
    "\n",
    "def movie_location(data):\n",
    "    movie_loc = []\n",
    "\n",
    "    for movie in data['data']['movies']:\n",
    "        if 'production' in movie:\n",
    "            movie_loc.append(movie['production'][\"filmingLocations\"])\n",
    "                    \n",
    "    return movie_loc\n",
    "\n",
    "movie_loc = movie_location(data)\n",
    "print(movie_loc)"
   ]
  },
  {
   "cell_type": "code",
   "execution_count": 109,
   "metadata": {},
   "outputs": [
    {
     "name": "stdout",
     "output_type": "stream",
     "text": [
      "{'The Shawshank Redemption': ['Frank Darabont']}\n"
     ]
    }
   ],
   "source": [
    "# 12\n",
    "# Listar os diretores de cada filme: \n",
    "# Relacione cada filme com o(s) diretor(es).\n",
    "\n",
    "def movie_directors(data):\n",
    "        movie_direc = {}\n",
    "\n",
    "        for movie in data['data']['movies']:\n",
    "                if 'production' in movie:\n",
    "                        movie_direc[movie['title']] = movie['directors']\n",
    "\n",
    "        return movie_direc    \n",
    "\n",
    "director = movie_directors(data)\n",
    "print(director)"
   ]
  },
  {
   "cell_type": "code",
   "execution_count": 110,
   "metadata": {},
   "outputs": [
    {
     "name": "stdout",
     "output_type": "stream",
     "text": [
      "{'The Shawshank Redemption': 28341469}\n"
     ]
    }
   ],
   "source": [
    "# 13\n",
    "# Obter o filme com maior receita na bilheteria (revenue): \n",
    "# Encontre o filme com o maior valor em revenue dentro de boxOffice.\n",
    "\n",
    "def max_revenue(data):\n",
    "\n",
    "    picture = None\n",
    "    highest_revenue = 0\n",
    "    info = {}\n",
    " \n",
    "    for movie in data['data']['movies']:\n",
    "        if 'production' in movie:\n",
    "            if movie['production'][\"boxOffice\"]['revenue'] > highest_revenue:\n",
    "                highest_revenue = movie['production'][\"boxOffice\"]['revenue']\n",
    "                picture = movie['title']\n",
    "\n",
    "    info[picture] = highest_revenue\n",
    "\n",
    "    return info\n",
    "\n",
    "revenue = max_revenue(data)\n",
    "print(revenue)  "
   ]
  },
  {
   "cell_type": "code",
   "execution_count": 113,
   "metadata": {},
   "outputs": [
    {
     "name": "stdout",
     "output_type": "stream",
     "text": [
      "28341469.0\n"
     ]
    }
   ],
   "source": [
    "# 14\n",
    "# Calcular o lucro médio dos filmes: \n",
    "# Some os valores de profit e calcule a média para todos os filmes.\n",
    "\n",
    "def media_profif(data):\n",
    "        soma = 0\n",
    "        med = {}\n",
    "\n",
    "        for movie in data['data']['movies']:\n",
    "                if 'production' in movie:\n",
    "                        soma += movie['production'][\"boxOffice\"]['revenue']\n",
    "\n",
    "        media = soma / num_filmes\n",
    "\n",
    "        return media\n",
    "\n",
    "\n",
    "med_profit = media_profif(data)\n",
    "print(med_profit)"
   ]
  },
  {
   "cell_type": "code",
   "execution_count": 111,
   "metadata": {},
   "outputs": [
    {
     "name": "stdout",
     "output_type": "stream",
     "text": [
      "{'The Shawshank Redemption': {'domestic': 15000000, 'international': 13341469}}\n"
     ]
    }
   ],
   "source": [
    "# 15\n",
    "# Obter a distribuição de vendas de ingressos por região:\n",
    "# Liste os valores de ticketSales.domestic e ticketSales.international para cada filme.\n",
    "\n",
    "def tickets(data):\n",
    "\n",
    "    picture = None\n",
    "    info = {}\n",
    "    tickets = {}\n",
    "\n",
    "    for movie in data['data']['movies']:\n",
    "        if 'production' in movie:\n",
    "            picture = movie['title']\n",
    "            tickets['domestic']= movie['production'][\"boxOffice\"]['ticketSales']['domestic']\n",
    "            tickets['international']= movie['production'][\"boxOffice\"]['ticketSales']['international']\n",
    "            info[picture] = tickets\n",
    "\n",
    "\n",
    "    return info\n",
    "\n",
    "ticket = tickets(data)\n",
    "print(ticket)"
   ]
  },
  {
   "cell_type": "code",
   "execution_count": 66,
   "metadata": {},
   "outputs": [
    {
     "name": "stdout",
     "output_type": "stream",
     "text": [
      "{'The Shawshank Redemption': {'year': 1995, 'award': 'Academy Awards', 'category': 'Best Picture'}, 'Breaking Bad': {'year': 2013, 'award': 'Primetime Emmy Awards', 'category': 'Outstanding Drama Series'}}\n"
     ]
    }
   ],
   "source": [
    "# 16\n",
    "# Listar todos os prêmios e categorias de cada filme/série:\n",
    "# Extraia o nome dos prêmios, o ano e as categorias associadas.\n",
    "\n",
    "\n",
    "def awards(data):\n",
    "\n",
    "    info = {}\n",
    "    awards_s = {}\n",
    "    awards_m = {}\n",
    "\n",
    "    for movie in data['data']['movies']:\n",
    "        if 'awards' in movie:\n",
    "            for a in movie['awards']:\n",
    "                awards_m['year'] = a['year']\n",
    "                awards_m['award'] = a['award']\n",
    "                awards_m['category'] = a['category']\n",
    "                info[movie['title']] = awards_m\n",
    "                \n",
    "    for series in data['data']['series']:\n",
    "        if 'awards' in series:\n",
    "            for a in series['awards']:\n",
    "                awards_s['year'] = a['year']\n",
    "                awards_s['award'] = a['award']\n",
    "                awards_s['category'] = a['category']\n",
    "                info[series['title']] = awards_s\n",
    "    \n",
    "    return info\n",
    "\n",
    "premios = awards(data)\n",
    "print(premios)"
   ]
  },
  {
   "cell_type": "code",
   "execution_count": 82,
   "metadata": {},
   "outputs": [
    {
     "name": "stdout",
     "output_type": "stream",
     "text": [
      "['Breaking Bad']\n"
     ]
    }
   ],
   "source": [
    "# 17\n",
    "# Identificar filmes/séries que ganharam prêmios:\n",
    "# Liste todos os filmes e séries onde won é true.\n",
    "\n",
    "def awards_won(data):\n",
    "    info = []\n",
    "\n",
    "    for movie in data['data']['movies']:\n",
    "        if 'awards' in movie:\n",
    "            for a in movie['awards']:\n",
    "                if a['won'] == True:\n",
    "                    info.append(movie['title'])\n",
    "\n",
    "\n",
    "    for series in data['data']['series']:\n",
    "        if 'awards' in series:\n",
    "            for a in series['awards']:\n",
    "                if a['won'] == True:\n",
    "                    info.append(series['title'])\n",
    "\n",
    "    return info\n",
    "\n",
    "won_awards = awards_won(data)\n",
    "print(won_awards)"
   ]
  },
  {
   "cell_type": "code",
   "execution_count": 83,
   "metadata": {},
   "outputs": [
    {
     "name": "stdout",
     "output_type": "stream",
     "text": [
      "{1995: ['The Shawshank Redemption']}\n"
     ]
    }
   ],
   "source": [
    "# 18\n",
    "# Listar os indicados ao prêmio de 'Melhor Filme' de cada ano:\n",
    "# Encontre os filmes indicados para a categoria de 'Best Picture' e organize-os por ano.\n",
    "\n",
    "def best_picture(data):\n",
    "\n",
    "    info = {}\n",
    "    picture = []\n",
    "\n",
    "    for movie in data['data']['movies']:\n",
    "        if 'awards' in movie:\n",
    "            for a in movie['awards']:\n",
    "                if a['category'] == 'Best Picture':\n",
    "                    picture.append(movie['title'])\n",
    "                    info[a['year']] = picture\n",
    "    \n",
    "    return info\n",
    "\n",
    "best_pic = best_picture(data)\n",
    "print(best_pic)\n",
    "\n"
   ]
  },
  {
   "cell_type": "code",
   "execution_count": 126,
   "metadata": {},
   "outputs": [
    {
     "name": "stdout",
     "output_type": "stream",
     "text": [
      "{'The best TV show ever made!': 500}\n"
     ]
    }
   ],
   "source": [
    "# 19\n",
    "# Obter o comentário com maior número de votos úteis (helpfulVotes):\n",
    "# Encontre o comentário com o maior valor em helpfulVotes.\n",
    "\n",
    "def most_helpfulvotes(data):\n",
    "\n",
    "    info = {}\n",
    "    votes = []\n",
    "    biggest_hv = 0\n",
    "    answer = {}\n",
    "\n",
    "    for movie in data['data']['movies']:\n",
    "        if 'reviews' in movie:\n",
    "            for a in movie['reviews']:\n",
    "                info[a['comment']] = a['details']['helpfulVotes']\n",
    "\n",
    "    for series in data['data']['series']:\n",
    "        if 'reviews' in series:\n",
    "            for a in series['reviews']:\n",
    "                info[a['comment']] = a['details']['helpfulVotes']\n",
    "\n",
    "\n",
    "    for movie, v in info.items():\n",
    "        votes.append(v)\n",
    "\n",
    "    biggest_hv = max(votes)\n",
    "\n",
    "    for movie, v in info.items():\n",
    "        if v ==  biggest_hv:\n",
    "            answer[movie] = info[movie]\n",
    "\n",
    "    return answer\n",
    "\n",
    "help_votes = most_helpfulvotes(data)\n",
    "print(help_votes)"
   ]
  },
  {
   "cell_type": "code",
   "execution_count": 112,
   "metadata": {},
   "outputs": [
    {
     "name": "stdout",
     "output_type": "stream",
     "text": [
      "9.3\n"
     ]
    }
   ],
   "source": [
    "# # 20\n",
    "# Calcular a nota média dos filmes:\n",
    "# Calcule a média das notas (rating) de todos os filmes.\n",
    "\n",
    "def media_nota(data):\n",
    "        soma = 0\n",
    "        med = {}\n",
    "\n",
    "        for movie in data['data']['movies']:\n",
    "            soma += movie['rating']\n",
    "\n",
    "        media = soma / num_filmes\n",
    "\n",
    "        return media\n",
    "\n",
    "\n",
    "med_nota = media_nota(data)\n",
    "print(med_nota)"
   ]
  },
  {
   "cell_type": "code",
   "execution_count": 141,
   "metadata": {},
   "outputs": [
    {
     "name": "stdout",
     "output_type": "stream",
     "text": [
      "{'The best TV show ever made!': '2021-08-10'}\n"
     ]
    }
   ],
   "source": [
    "# 21\n",
    "# Filtrar todas as avaliações feitas antes de 2022:\n",
    "# Liste apenas as avaliações onde a data (date) é anterior a 2022.\n",
    "\n",
    "def comments_before2022(data):\n",
    "    \n",
    "    info = {}\n",
    "\n",
    "    for movie in data['data']['movies']:\n",
    "        if 'reviews' in movie:\n",
    "            for a in movie['reviews']:\n",
    "                date = a[\"details\"][\"date\"].split(\"-\")\n",
    "\n",
    "                if int(date[0]) < 2022: \n",
    "                    info[a['comment']] = a[\"details\"][\"date\"]\n",
    "                \n",
    "\n",
    "    for series in data['data']['series']:\n",
    "        if 'reviews' in series:\n",
    "            for a in series['reviews']:\n",
    "                date = a[\"details\"][\"date\"].split(\"-\")\n",
    "\n",
    "                if int(date[0]) < 2022: \n",
    "                    info[a['comment']] = a[\"details\"][\"date\"]\n",
    "\n",
    "    return info\n",
    "\n",
    "comments_bef2022 = comments_before2022(data)\n",
    "print(comments_bef2022)"
   ]
  },
  {
   "cell_type": "code",
   "execution_count": 156,
   "metadata": {},
   "outputs": [],
   "source": [
    "def write_txt(title=str, data=dict):\n",
    "\n",
    "    with open('movies_series.txt', 'a', encoding='utf8') as file:\n",
    "        file.writelines((f'{title}\\n\\n'))\n",
    "        file.write(json.dumps(data)) \n",
    "        file.write('\\n\\n===================================================================\\n\\n')\n",
    "\n",
    "    \n",
    "write_txt('Título dos filmes', titulos_filmes)\n",
    "write_txt('Título das séries', titulos_series)\n",
    "write_txt('Filme/Série com maior rating', nota_maior)\n",
    "write_txt('Todos os gêneros de filmes/séries', all_genres)\n",
    "write_txt('Quantidade total de filmes/séries', num_pictures)\n",
    "write_txt('Plataformas de streaming disponíveis', all_streaming)\n",
    "write_txt('Filmes/séries disponíveis em 4k', resolucao_4k)\n",
    "write_txt('Onde os filmes estão disponíveis?', available_platforms)\n",
    "write_txt('Todos os atores + personagens interpretados', actor_charc)\n",
    "write_txt('Ator com maior salário em filme ou salário', highest_salary)\n",
    "write_txt('Localizações de filmagem dos filmes', movie_loc)\n",
    "write_txt('Cada filme e seu diretore', director)\n",
    "write_txt('Filme com maior receita na bilheteria', revenue)\n",
    "write_txt('Lucro médio dos filmes', med_profit)\n",
    "write_txt('Distribuição de vendas de ingressos de cada filme por região', ticket)\n",
    "write_txt('Premios e categorias de cada filme e série', premios)\n",
    "write_txt('Quais filmes e séries receberam premios', won_awards)\n",
    "write_txt('Indicados a Best Picture (por ano)', best_pic)\n",
    "write_txt('Comentário com maior número de votos únicos', help_votes)\n",
    "write_txt('Nota média dos filmes', med_nota)\n",
    "write_txt('Avaliações feitas antes de 2022', comments_bef2022)"
   ]
  },
  {
   "cell_type": "code",
   "execution_count": 155,
   "metadata": {},
   "outputs": [],
   "source": [
    "with open('movies_series.txt', 'w+', encoding='utf8') as file:\n",
    "    file.seek(0, 0)"
   ]
  }
 ],
 "metadata": {
  "kernelspec": {
   "display_name": "Python 3",
   "language": "python",
   "name": "python3"
  },
  "language_info": {
   "codemirror_mode": {
    "name": "ipython",
    "version": 3
   },
   "file_extension": ".py",
   "mimetype": "text/x-python",
   "name": "python",
   "nbconvert_exporter": "python",
   "pygments_lexer": "ipython3",
   "version": "3.12.0"
  }
 },
 "nbformat": 4,
 "nbformat_minor": 2
}
